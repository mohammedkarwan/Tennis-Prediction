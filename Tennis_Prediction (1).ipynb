{
  "cells": [
    {
      "cell_type": "code",
      "source": [
        "import requests\n",
        "import pandas as pd\n",
        "import numpy as np\n",
        "from joblib import load\n",
        "from sklearn.preprocessing import LabelEncoder\n",
        "from datetime import datetime, timedelta\n",
        "\n",
        "\n",
        "\n",
        "model = load(\"/content/drive/MyDrive/data/Tennis-Prediction.joblib\")\n",
        "\n",
        "url = \"https://api.api-tennis.com/tennis/\"\n",
        "\n",
        "now = datetime.now()\n",
        "date_start = now.strftime('%Y-%m-%d')\n",
        "date_stop = (now + timedelta(days=1)).strftime('%Y-%m-%d')\n",
        "print(f\"\\nFetching tennis data for upcoming matches from {date_start} to {date_stop}\")\n",
        "\n",
        "params = {\n",
        "    \"method\": \"get_fixtures\",\n",
        "    \"APIkey\": \"bbad081e02e2214b97aa19f1f9151e0e6b84b0caf1e24a5cff55ff663c18382b\",\n",
        "    \"date_start\": date_start,\n",
        "    \"date_stop\": date_stop,\n",
        "    \"timezone\": \"Europe/London\",\n",
        "    \"status\": \"Not Started\"\n",
        "}\n",
        "\n",
        "response = requests.get(url, params=params)\n",
        "data = response.json()\n",
        "matches = data.get(\"result\", [])\n",
        "\n",
        "df = pd.DataFrame([{\n",
        "    \"Date\": m[\"event_date\"],\n",
        "    \"Time\": m[\"event_time\"],\n",
        "    \"Player_1\": m[\"event_first_player\"],\n",
        "    \"Player_2\": m[\"event_second_player\"],\n",
        "    \"Match\": f\"{m['event_first_player']} vs {m['event_second_player']}\",\n",
        "    \"Level\": m[\"event_type_type\"],\n",
        "    \"Odds\": np.random.uniform(1.4, 2.5)\n",
        "} for m in matches if m.get(\"event_status\") == \"\" and m.get(\"event_final_result\") == \"-\"])\n",
        "\n",
        "if df.empty:\n",
        "    print(\"❌ No upcoming matches available in the selected range.\")\n",
        "else:\n",
        "    df[\"Level\"] = LabelEncoder().fit_transform(df[\"Level\"])\n",
        "    df[\"log_odds\"] = np.log(df[\"Odds\"])\n",
        "    df[\"inverse_odds\"] = 1 / df[\"Odds\"]\n",
        "    df[\"prob_diff\"] = 0\n",
        "    df[\"risk_index\"] = 0\n",
        "\n",
        "    features = ['Odds', 'Level', 'log_odds', 'inverse_odds', 'prob_diff', 'risk_index']\n",
        "    df[\"model_probability\"] = model.predict_proba(df[features])[:, 1]\n",
        "    df[\"model_expected_value\"] = (df[\"model_probability\"] * (df[\"Odds\"] - 1)) - (1 - df[\"model_probability\"])\n",
        "    df[\"model_expected_value_percent\"] = df[\"model_expected_value\"] * 100\n",
        "    df[\"prob_diff\"] = df[\"model_probability\"] - df[\"inverse_odds\"]\n",
        "    df[\"risk_index\"] = (df[\"model_probability\"] * df[\"Odds\"]) - 1\n",
        "\n",
        "    df[\"prediction\"] = np.where(\n",
        "        df[\"model_probability\"] >= 0.5,\n",
        "        df[\"Player_1\"] + \" to win match\",\n",
        "        df[\"Player_2\"] + \" to win match\"\n",
        "    )\n",
        "\n",
        "    value_bets = df[\n",
        "        (df[\"model_probability\"] >= 0.6) &\n",
        "        (df[\"model_expected_value\"] >= 0.15)\n",
        "    ].copy()\n",
        "\n",
        "    print(\"📅 High-Value Upcoming Matches:\")\n",
        "    if value_bets.empty:\n",
        "        print(\"⚠️ No high-value bets found at the moment.\")\n",
        "    else:\n",
        "        for _, row in value_bets.iterrows():\n",
        "            print(f\"🗓 {row['Date']} | {row['Match']}\")\n",
        "            print(f\"🎯 Prediction: {row['prediction']}\")\n",
        "            print(f\"📈 Prob: {row['model_probability']:.2%} | EV: {row['model_expected_value_percent']:.2f}% | Odds: {row['Odds']:.2f}\")\n",
        "            print(\"—\" * 40)\n",
        "\n",
        "        print(f\"\\n✅ Number of high-value bets found: {len(value_bets)}\")\n"
      ],
      "metadata": {
        "colab": {
          "base_uri": "https://localhost:8080/"
        },
        "id": "8PwEpkLb5_e8",
        "outputId": "c4bce6d6-e92b-4551-8485-0bae70637d4b"
      },
      "execution_count": null,
      "outputs": [
        {
          "output_type": "stream",
          "name": "stdout",
          "text": [
            "\n",
            "Fetching tennis data for upcoming matches from 2025-06-23 to 2025-06-24\n",
            "📅 High-Value Upcoming Matches:\n",
            "⚠️ No high-value bets found at the moment.\n"
          ]
        }
      ]
    },
    {
      "cell_type": "code",
      "source": [
        "output_path = \"/content/drive/MyDrive/sav/high_value_upcoming_bets.csv\"\n",
        "value_bets[[\n",
        "    \"Date\", \"Match\", \"Odds\", \"model_probability\",\n",
        "    \"model_expected_value_percent\", \"prediction\"\n",
        "]].to_csv(output_path, index=False)\n",
        "\n",
        "print(f\"\\n📥 Results have been saved to file: {output_path}\")\n",
        "\n"
      ],
      "metadata": {
        "colab": {
          "base_uri": "https://localhost:8080/"
        },
        "id": "YjgEuearJam6",
        "outputId": "c161198c-7e80-48e9-cb0f-c77090c7d166"
      },
      "execution_count": null,
      "outputs": [
        {
          "output_type": "stream",
          "name": "stdout",
          "text": [
            "\n",
            "📥 Results have been saved to file: /content/drive/MyDrive/sav/high_value_upcoming_bets.csv\n"
          ]
        }
      ]
    },
    {
      "cell_type": "code",
      "source": [
        "from datetime import datetime, timedelta\n",
        "now = datetime.now()\n",
        "date_start = now.strftime('%Y-%m-%d')\n",
        "date_stop = (now + timedelta(days=1)).strftime('%Y-%m-%d')\n",
        "print(f\"\\nFetching tennis data for upcoming matches from {date_start} to {date_stop}\")\n"
      ],
      "metadata": {
        "id": "zZX7lSXYKeRD",
        "colab": {
          "base_uri": "https://localhost:8080/"
        },
        "outputId": "ace9fbd9-e347-4512-974a-01158260b8b5"
      },
      "execution_count": null,
      "outputs": [
        {
          "output_type": "stream",
          "name": "stdout",
          "text": [
            "\n",
            "Fetching tennis data for upcoming matches from 2025-06-23 to 2025-06-24\n"
          ]
        }
      ]
    },
    {
      "cell_type": "code",
      "source": [],
      "metadata": {
        "id": "d2Z32AMXLTVx"
      },
      "execution_count": null,
      "outputs": []
    }
  ],
  "metadata": {
    "accelerator": "GPU",
    "colab": {
      "gpuType": "T4",
      "provenance": []
    },
    "kernelspec": {
      "display_name": "Python 3",
      "name": "python3"
    },
    "language_info": {
      "name": "python"
    }
  },
  "nbformat": 4,
  "nbformat_minor": 0
}